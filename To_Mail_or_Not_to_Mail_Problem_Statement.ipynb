{
 "cells": [
  {
   "cell_type": "markdown",
   "metadata": {
    "collapsed": true
   },
   "source": [
    "## To Mail or Not to Mail"
   ]
  },
  {
   "cell_type": "markdown",
   "metadata": {},
   "source": [
    "Direct mailings to a company’s potential customers – “junk mail” to many – can be a very effective way for them to market a product or a service. However, as we all know, much of this junk mail is really of no interest to the people that receive it. Most of it ends up thrown away, not only wasting the money that the company spent on it, but also filling up landfill waste sites or needing to be recycled. "
   ]
  },
  {
   "cell_type": "markdown",
   "metadata": {},
   "source": [
    "If the company had a better understanding of who their potential customers were, they would know more accurately who to send it to, so some of this waste and expense could be reduced."
   ]
  },
  {
   "cell_type": "markdown",
   "metadata": {},
   "source": [
    "### Data Files "
   ]
  },
  {
   "cell_type": "markdown",
   "metadata": {},
   "source": [
    "Train Dataset = carvan_train.csv\n",
    "\n",
    "Test Dataset = carvan_test.csv"
   ]
  },
  {
   "cell_type": "markdown",
   "metadata": {},
   "source": [
    "### Formal Problem Statement"
   ]
  },
  {
   "cell_type": "markdown",
   "metadata": {},
   "source": [
    "We want you to predict whether a customer is interested in a caravan insurance policy from other data about the customer. Information about customers consists of 86 variables and includes product usage data and socio-demographic data derived from zip area codes. The data was supplied based on a real world business problem. The training set contains over 5000 descriptions of customers, including the information of whether or not they have a caravan insurance policy. A test set contains 4000 customers of whom target variable is not shared with you.\n",
    "\n",
    "Target Variable is V86."
   ]
  },
  {
   "cell_type": "markdown",
   "metadata": {},
   "source": [
    "You need to use train data for building the model and then use that model to predict outcome for given test data. We expect outcomes to be either 0 or 1.\n",
    "\n",
    "In order to get a passing grade in this project you need to get Fbeta score greater than 0.26 [ beta =2 ] for your test data predictions .\n"
   ]
  },
  {
   "cell_type": "markdown",
   "metadata": {},
   "source": [
    "### General Guidelines for the project"
   ]
  },
  {
   "cell_type": "markdown",
   "metadata": {},
   "source": [
    "* Your submission will be a csv file with a single column containing your predictions for target. Order of these predicitons should be same as observation orders in the test data to which these predictions correspond to.\n",
    "* you will find data details in 'data dictionary.txt' file\n",
    "* You will notice that many variables which are numeric in the data but should have been categorical in reality. Handling those variables in proper fashion might improve your model\n",
    "* Real catch in this problem is very low number of responses being 1. Simpler models will perform very poorly on this data. You will have to focus on parameter tuning very well. Since the dataset is fairly small, it wouldnt be an issue.\n",
    "* Do break your train data into two parts ; use one part to build your model and use another to asses its performance , so that while submitting your results , you know how your model performs rather than wait for our evaluations.\n",
    "* While you are breaking your data into two parts , make sure that you stratified sampling so that both part have same percentages of 0/1 as in the original data. This way you'll avoid falling in trap of severe over/underfit while assesing performance of your model"
   ]
  }
 ],
 "metadata": {
  "anaconda-cloud": {},
  "kernelspec": {
   "display_name": "Python 3",
   "language": "python",
   "name": "python3"
  },
  "language_info": {
   "codemirror_mode": {
    "name": "ipython",
    "version": 3
   },
   "file_extension": ".py",
   "mimetype": "text/x-python",
   "name": "python",
   "nbconvert_exporter": "python",
   "pygments_lexer": "ipython3",
   "version": "3.6.4"
  }
 },
 "nbformat": 4,
 "nbformat_minor": 1
}
