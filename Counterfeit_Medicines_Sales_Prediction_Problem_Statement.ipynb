{
 "cells": [
  {
   "cell_type": "markdown",
   "metadata": {},
   "source": [
    "## Counterfeit Medicines Sales Prediction"
   ]
  },
  {
   "cell_type": "markdown",
   "metadata": {},
   "source": [
    "Counterfeit medicine are fake medicines which are either contaminated or contain the wrong or no active ingredient. They could have the right active ingredient but at the wrong dose. Counterfeit drugs are illegal and are  harmful to the health.\n",
    "10% of the world's medicine is counterfeit, problem is even worse in developing countries .Up to 30% of medicines in developing countries are counterfeit\n",
    "\n",
    "Millions of pills, bottles and sachets of counterfeit and illegal medicines are being traded across the world\n",
    "The World Health Organization (WHO) is working with International Criminal Police Organization (Interpol) to dislodge the criminal networks raking in billions of dollars from this cynical trade.\n",
    "\n",
    "Despite all these efforts , counterfeit medicine selling rackets don’t seem to stop popping here and there. It has become a challenge to deploy resources to counter these; without spreading them too thin and eventually rendering them ineffective.\n",
    "Government has decided that they should focus on illegal operations of high net worth first instead of trying to control all of them. In order to do that they have collected data which will help them to predict sales figures given an illegal operation's characteristics.\n"
   ]
  },
  {
   "cell_type": "markdown",
   "metadata": {},
   "source": [
    "### Data Files "
   ]
  },
  {
   "cell_type": "markdown",
   "metadata": {},
   "source": [
    "Train Dataset = counterfeit_train.csv\n",
    "\n",
    "Test Dataset = counterfeit_test.csv"
   ]
  },
  {
   "cell_type": "markdown",
   "metadata": {},
   "source": [
    "### Formal Problem Statement"
   ]
  },
  {
   "cell_type": "markdown",
   "metadata": {},
   "source": [
    "Variable names are self explanatory.\n",
    "\n",
    "Your task here is to build predictive model for predicting sales figures given other information related to counterfeit medicine selling operations. You need to build your model on Train data . Test data doesnt have response column, you need to predict those values and submit it as a csv format. \n",
    "\n",
    "final submission file name = 'Ajay_yadav_P3.csv'\n",
    "\n",
    "Column names ,value types should exactly match. Also number of rows in the submission csv should be exactly same as test data."
   ]
  },
  {
   "cell_type": "markdown",
   "metadata": {},
   "source": [
    "### Evaluation Criterion"
   ]
  },
  {
   "cell_type": "markdown",
   "metadata": {},
   "source": [
    "Score will be calculated as: \n",
    "\n",
    "Score = 1-(MAE/1660)\n",
    "\n",
    "Where MAE is mean absolute error on test file. You need to score more than 0.5 in order to pass the project submission.Dont read too much into score formulation, it is just to scale MAE . You just need to focus on minimising MAE."
   ]
  },
  {
   "cell_type": "markdown",
   "metadata": {},
   "source": []
  }
 ],
 "metadata": {
  "kernelspec": {
   "display_name": "Python 3",
   "language": "python",
   "name": "python3"
  },
  "language_info": {
   "codemirror_mode": {
    "name": "ipython",
    "version": 3
   },
   "file_extension": ".py",
   "mimetype": "text/x-python",
   "name": "python",
   "nbconvert_exporter": "python",
   "pygments_lexer": "ipython3",
   "version": "3.6.4"
  }
 },
 "nbformat": 4,
 "nbformat_minor": 1
}
